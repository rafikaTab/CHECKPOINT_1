{
 "cells": [
  {
   "cell_type": "code",
   "execution_count": 1,
   "metadata": {},
   "outputs": [
    {
     "name": "stdout",
     "output_type": "stream",
     "text": [
      "2030 2065 2100 2135 2170 2205 2240 2275 2310 2345 2380 2415 2450 2485 2520 2555 2590 2625 2660 2695 2730 2765 2800 2835 2870 2905 2940 2975 3010 3045 3080 3115 3150 3185\n"
     ]
    }
   ],
   "source": [
    "# Exercice 1 : Divisble par 7\n",
    "list=[]\n",
    "for N in range(2000, 3201):\n",
    "    if (N%7==0) and (N%5==0):\n",
    "        list.append(str(N))\n",
    "print (' '.join(list))"
   ]
  },
  {
   "cell_type": "code",
   "execution_count": 6,
   "metadata": {},
   "outputs": [
    {
     "name": "stdout",
     "output_type": "stream",
     "text": [
      "Veuillez saisir un Nombre N: 8\n",
      "{1: 1, 2: 4, 3: 9, 4: 16, 5: 25, 6: 36, 7: 49, 8: 64}\n"
     ]
    }
   ],
   "source": [
    "# Exercice 3 : le carré d'un Nombre\n",
    "int(input(\"Veuillez saisir un Nombre N: \"))\n",
    "Dic = {i : i*i for i in range(1, N+1)}\n",
    "print(Dic)"
   ]
  },
  {
   "cell_type": "code",
   "execution_count": 12,
   "metadata": {},
   "outputs": [
    {
     "name": "stdout",
     "output_type": "stream",
     "text": [
      "Veuillez saisir un nombre SVP : 8\n",
      "40320\n"
     ]
    }
   ],
   "source": [
    "# Exercice 2 : Factoriel d'un nombre\n",
    "def fact(N):\n",
    "    if N == 0:\n",
    "        return 1\n",
    "    else:\n",
    "        return N * fact(N-1)\n",
    "N=int(input(\"Veuillez saisir un nombre SVP : \"))\n",
    "print(fact(N))"
   ]
  },
  {
   "cell_type": "code",
   "execution_count": 16,
   "metadata": {},
   "outputs": [
    {
     "name": "stdout",
     "output_type": "stream",
     "text": [
      "ktten\n",
      "itten\n",
      "kittn\n"
     ]
    }
   ],
   "source": [
    "# Exercice 4 : Suppression d'un caractère d'un mot \n",
    "def suppr_char(str, n): # le mot et l'index à supprimer\n",
    "      first_part = str[:n] \n",
    "      last_part = str[n+1:]\n",
    "      return first_part + last_part \n",
    "print(suppr_char('kitten', 1))\n",
    "print(suppr_char('kitten', 0))\n",
    "print(suppr_char('kitten', 4))"
   ]
  },
  {
   "cell_type": "code",
   "execution_count": 28,
   "metadata": {},
   "outputs": [
    {
     "name": "stdout",
     "output_type": "stream",
     "text": [
      "Original array elements:\n",
      "[[0 1]\n",
      " [2 3]\n",
      " [4 5]]\n",
      "Array to list:\n",
      "[[0, 1], [2, 3], [4, 5]]\n"
     ]
    }
   ],
   "source": [
    "# Exercice 5\n",
    "import numpy as np\n",
    "N= np.arange(6).reshape(3, 2)  # matrice de 3 lignes et 2 Colonnes\n",
    "print(\"Original array elements:\")  # Numpy Array\n",
    "print(N)\n",
    "print(\"Array to list:\")           \n",
    "print(N.tolist())  # convertit l'index en list"
   ]
  },
  {
   "cell_type": "code",
   "execution_count": 26,
   "metadata": {},
   "outputs": [
    {
     "name": "stdout",
     "output_type": "stream",
     "text": [
      "Donnez la liste des nombres D: 100,150,180\n",
      "[18, 22, 24]\n"
     ]
    }
   ],
   "source": [
    "# exercice 7\n",
    "import math\n",
    "C=50;\n",
    "H=30;\n",
    "n = input(\"Donnez la liste des nombres D: \")\n",
    "n = n.split(',')   # séparation des nombres par des virgules\n",
    "list_en_sortie = []\n",
    "for D in n:\n",
    "    Q = round(math.sqrt(2 * C * int(D) / H))   # Round permet d'avoir un résultat avec arrondi\n",
    "    list_en_sortie.append(Q)\n",
    "print(list_en_sortie)"
   ]
  },
  {
   "cell_type": "code",
   "execution_count": 29,
   "metadata": {},
   "outputs": [
    {
     "name": "stdout",
     "output_type": "stream",
     "text": [
      "Donnez la liste des nombres D: 100,150,180\n",
      "[18.257418583505537, 22.360679774997898, 24.49489742783178]\n"
     ]
    }
   ],
   "source": [
    "# exercice 7 sans l'ARRONDI\n",
    "import math\n",
    "C=50;\n",
    "H=30;\n",
    "n = input(\"Donnez la liste des nombres D: \")\n",
    "n = n.split(',')   # séparation des nombres par des virgules\n",
    "la_list_en_sortie = []\n",
    "for D in n:\n",
    "    Q = math.sqrt(2 * C * int(D) / H )  # sans l'arrondi ROUND\n",
    "    la_list_en_sortie.append(Q)\n",
    "print(la_list_en_sortie)"
   ]
  },
  {
   "cell_type": "code",
   "execution_count": null,
   "metadata": {},
   "outputs": [],
   "source": []
  }
 ],
 "metadata": {
  "kernelspec": {
   "display_name": "Python 3",
   "language": "python",
   "name": "python3"
  },
  "language_info": {
   "codemirror_mode": {
    "name": "ipython",
    "version": 3
   },
   "file_extension": ".py",
   "mimetype": "text/x-python",
   "name": "python",
   "nbconvert_exporter": "python",
   "pygments_lexer": "ipython3",
   "version": "3.7.4"
  }
 },
 "nbformat": 4,
 "nbformat_minor": 2
}
